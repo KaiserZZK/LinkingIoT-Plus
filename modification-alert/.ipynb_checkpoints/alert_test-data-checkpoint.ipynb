{
 "cells": [
  {
   "cell_type": "markdown",
   "id": "26a42e39",
   "metadata": {},
   "source": [
    "## \n",
    "\n",
    "A prototype\n",
    "\n",
    "### Objective\n",
    "\n",
    "The objective is to test whether \n",
    "\n",
    "Categorization of relations \n",
    "Changing the value of an attribute (e.g. onStatus) of one device/thing (e.g. smart-socket-1) may affect attributes of another device (e.g. smart-lamp-2)\n",
    "\n",
    "We wanna make sure this doesn’t happen/users should get warned for altering a thing that has other things dependent on that \n",
    "\n",
    "```Cypher\n",
    "MATCH (a:PowerSource {id: ‘smart-socket-1’})-[r:Powers]->(b:Appliance)\n",
    "SET b.onStatus = False\n",
    "RETURN b\n",
    "```\n",
    "\n",
    "```Cypher\n",
    "MATCH (a:PowerSource {id: ‘smart-socket-1’})-[r:Powers]->(b:Appliance)\n",
    "<detecting mechanism>\n",
    "SET b.onStatus = False\n",
    "RETURN b\n",
    "```"
   ]
  },
  {
   "cell_type": "markdown",
   "id": "40d9bc76",
   "metadata": {},
   "source": [
    "### Set up and test the connection"
   ]
  },
  {
   "cell_type": "code",
   "execution_count": 2,
   "id": "ac1bdeb0",
   "metadata": {},
   "outputs": [
    {
     "name": "stdout",
     "output_type": "stream",
     "text": [
      "helo\n"
     ]
    }
   ],
   "source": [
    "neo4j_url = \"neo4j+s://5008fc3b.databases.neo4j.io\"\n",
    "neo4j_user = \"neo4j\"\n",
    "neo4j_password = \"tG1qoEpchdLRh4k5KlCDazCHkgdFHSHATwBtaXVMrdM\""
   ]
  },
  {
   "cell_type": "code",
   "execution_count": null,
   "id": "dd7af95f",
   "metadata": {},
   "outputs": [],
   "source": [
    "from py2neo import Graph"
   ]
  },
  {
   "cell_type": "code",
   "execution_count": null,
   "id": "f5dbce36",
   "metadata": {},
   "outputs": [],
   "source": [
    "def t1():\n",
    "    graph = Graph(neo4j_url, auth=(neo4j_user, neo4j_password))\n",
    "    q = \"match (r:Person) where r.name='Tom Hanks' return r\"\n",
    "    res = graph.run(q)\n",
    "\n",
    "    for r in res:\n",
    "        print(r)"
   ]
  },
  {
   "cell_type": "code",
   "execution_count": null,
   "id": "f2b62874",
   "metadata": {},
   "outputs": [],
   "source": [
    "t1()"
   ]
  }
 ],
 "metadata": {
  "kernelspec": {
   "display_name": "my_env",
   "language": "python",
   "name": "my_env"
  },
  "language_info": {
   "codemirror_mode": {
    "name": "ipython",
    "version": 3
   },
   "file_extension": ".py",
   "mimetype": "text/x-python",
   "name": "python",
   "nbconvert_exporter": "python",
   "pygments_lexer": "ipython3",
   "version": "3.10.8"
  }
 },
 "nbformat": 4,
 "nbformat_minor": 5
}
