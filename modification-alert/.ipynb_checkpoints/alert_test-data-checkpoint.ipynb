{
 "cells": [
  {
   "cell_type": "markdown",
   "id": "ce6bff12",
   "metadata": {},
   "source": [
    "## \n",
    "\n",
    "A prototype\n",
    "\n",
    "#### Objective\n",
    "\n",
    "The objective is to test whether \n",
    "\n",
    "Categorization of relations \n",
    "Changing the value of an attribute (e.g. onStatus) of one device/thing (e.g. smart-socket-1) may affect attributes of another device (e.g. smart-lamp-2)\n",
    "\n",
    "We wanna make sure this doesn’t happen/users should get warned for altering a thing that has other things dependent on that \n",
    "\n",
    "```Cypher\n",
    "MATCH (a:PowerSource {id: ‘smart-socket-1’})-[r:Powers]->(b:Appliance)\n",
    "SET b.onStatus = False\n",
    "RETURN b\n",
    "```\n",
    "\n",
    "```Cypher\n",
    "MATCH (a:PowerSource {id: ‘smart-socket-1’})-[r:Powers]->(b:Appliance)\n",
    "<detecting mechanism>\n",
    "SET b.onStatus = False\n",
    "RETURN b\n",
    "```\n",
    "\n",
    "#### Method\n",
    "\n",
    "In this prototype, I will be using Neo4j's built-in example database, `Movie DBMS`.\n",
    "\n",
    "One existing relationships in this db model could help with our prototyping process `Acted_in`\n",
    "\n",
    "implies a dependency of an actor on a movie\n",
    "analogous to the power source appliance relationship \n",
    "\n",
    "`onStatus`\n",
    "\n",
    "##### Use cases to build model after\n",
    "\n",
    "* power(on), appliance(off) --> wanting to switch off power\n",
    "\n",
    "* power(off), appliance(on) --> wanting to switch on appliance\n",
    "\n",
    "#### Steps\n",
    "1. Modidying test data\n",
    "* Add attributes to data\n",
    "2. Building out the feature\n",
    "* Write Cypher query that affects power/host's attributes\n",
    "* Convert Cypher query into python function \n",
    "* Control statement to check power/appliance, determine whether to raise an alert"
   ]
  },
  {
   "cell_type": "markdown",
   "id": "afb2eb1d",
   "metadata": {},
   "source": [
    "### Set up and test the connection"
   ]
  },
  {
   "cell_type": "code",
   "execution_count": 1,
   "id": "a4d4d067",
   "metadata": {},
   "outputs": [],
   "source": [
    "from py2neo import Graph"
   ]
  },
  {
   "cell_type": "code",
   "execution_count": 2,
   "id": "d4b967b6",
   "metadata": {},
   "outputs": [],
   "source": [
    "remote_url =  \"neo4j://localhost:7687\"\n",
    "remote_user = \"kaiser_zzk\"\n",
    "remote_pw =   \"123465789\""
   ]
  },
  {
   "cell_type": "code",
   "execution_count": 3,
   "id": "8433107f",
   "metadata": {},
   "outputs": [],
   "source": [
    "def t1():\n",
    "    graph = Graph(remote_url, auth=(remote_user, remote_pw))\n",
    "    q = \"match (r:Person) where r.name='Tom Hanks' return r\"\n",
    "    res = graph.run(q)\n",
    "\n",
    "    for r in res:\n",
    "        print(r)"
   ]
  },
  {
   "cell_type": "code",
   "execution_count": 4,
   "id": "8ce053c4",
   "metadata": {},
   "outputs": [
    {
     "name": "stdout",
     "output_type": "stream",
     "text": [
      "Node('Person', born=1956, name='Tom Hanks')\n"
     ]
    }
   ],
   "source": [
    "t1()"
   ]
  },
  {
   "cell_type": "markdown",
   "id": "55a33b9c",
   "metadata": {},
   "source": [
    "### Modify `Movie` Nodes"
   ]
  },
  {
   "cell_type": "markdown",
   "id": "b4c56a50",
   "metadata": {},
   "source": [
    "Create and add an attribute that only accepts `True` or `False` as its values "
   ]
  },
  {
   "cell_type": "code",
   "execution_count": 51,
   "id": "303f5d22",
   "metadata": {},
   "outputs": [],
   "source": [
    "graph = Graph(remote_url, auth=(remote_user, remote_pw))"
   ]
  },
  {
   "cell_type": "code",
   "execution_count": 23,
   "id": "842e075d",
   "metadata": {},
   "outputs": [],
   "source": [
    "createPropertyTestStr = \"MATCH (n:Movie) SET n.isTest2 = True\""
   ]
  },
  {
   "cell_type": "code",
   "execution_count": 24,
   "id": "3844e824",
   "metadata": {},
   "outputs": [],
   "source": [
    "def createPropertyTest():\n",
    "    graph.run(createPropertyTestStr)"
   ]
  },
  {
   "cell_type": "code",
   "execution_count": 25,
   "id": "2ed424c6",
   "metadata": {},
   "outputs": [],
   "source": [
    "createPropertyTest()"
   ]
  },
  {
   "cell_type": "markdown",
   "id": "aeba50f8",
   "metadata": {},
   "source": [
    "There is currently no built-in way to enforce a range of values for a property in Neo4j (?)"
   ]
  },
  {
   "cell_type": "code",
   "execution_count": 37,
   "id": "f9a576d5",
   "metadata": {},
   "outputs": [],
   "source": [
    "def checkNodePropertyValue():\n",
    "    q = \"MATCH (n:Movie) WHERE n.title='When Harry Met Sally' RETURN n.released\"\n",
    "    num = graph.run(q)\n",
    "    \n",
    "    return num"
   ]
  },
  {
   "cell_type": "code",
   "execution_count": 52,
   "id": "c6141c97",
   "metadata": {},
   "outputs": [
    {
     "data": {
      "text/html": [
       "<table><tr><th>n.released</th></tr><tr><td style=\"text-align:right\">1998</td></tr></table>"
      ],
      "text/plain": [
       " n.released \n",
       "------------\n",
       "       1998 "
      ]
     },
     "execution_count": 52,
     "metadata": {},
     "output_type": "execute_result"
    }
   ],
   "source": [
    "checkNodePropertyValue()"
   ]
  },
  {
   "cell_type": "markdown",
   "id": "7781a739",
   "metadata": {},
   "source": [
    "checking the value(s) of the related node(s) of the \"root\" node"
   ]
  },
  {
   "cell_type": "code",
   "execution_count": 54,
   "id": "b2788fc8",
   "metadata": {},
   "outputs": [],
   "source": [
    "def checkRelatedNodesPropertyValue():\n",
    "    q = \"MATCH (p:Person)-[:ACTED_IN]->(m:Movie) WHERE m.title = 'When Harry Met Sally' RETURN p.born\"\n",
    "    years = graph.run(q)\n",
    "    \n",
    "    for y in years:\n",
    "        print(y)"
   ]
  },
  {
   "cell_type": "code",
   "execution_count": 53,
   "id": "b60f389f",
   "metadata": {},
   "outputs": [
    {
     "name": "stdout",
     "output_type": "stream",
     "text": [
      "1956\n",
      "1948\n",
      "1949\n",
      "1961\n"
     ]
    }
   ],
   "source": [
    "checkRelatedNodesPropertyValue()"
   ]
  },
  {
   "cell_type": "code",
   "execution_count": 59,
   "id": "b00fefa8",
   "metadata": {},
   "outputs": [
    {
     "data": {
      "text/html": [
       "(No data)"
      ],
      "text/plain": [
       "(No data)"
      ]
     },
     "execution_count": 59,
     "metadata": {},
     "output_type": "execute_result"
    }
   ],
   "source": [
    "graph.run(\"MATCH (n:Person) SET n.isTest3 = True\")"
   ]
  },
  {
   "cell_type": "markdown",
   "id": "7e15fbca",
   "metadata": {},
   "source": [
    "##### So far, we have modeled all the features we want to have for prototyping"
   ]
  },
  {
   "cell_type": "markdown",
   "id": "f38d7ed2",
   "metadata": {},
   "source": [
    "### Modeling the process"
   ]
  },
  {
   "cell_type": "markdown",
   "id": "9eabd43f",
   "metadata": {},
   "source": [
    "When modifying a depender node, a Cypher query (or a function that invokes the query) attempts to alter the value of status property of the node "
   ]
  },
  {
   "cell_type": "code",
   "execution_count": 62,
   "id": "3bbd51c0",
   "metadata": {},
   "outputs": [],
   "source": [
    "alterStr = \"MATCH (m:Movie) WHERE m.title='When Harry Met Sally' SET m.isTest2 = True\""
   ]
  },
  {
   "cell_type": "markdown",
   "id": "985b2ad8",
   "metadata": {},
   "source": [
    "For our propose, we want run examination on the dependee `Movie` node with title \"When Harry Met Sally\", i.e. iterate through all its depender `Person` nodes, **before** it is being modified (value of `isTest2` set to `True`) "
   ]
  },
  {
   "cell_type": "code",
   "execution_count": null,
   "id": "bc1d7fc0",
   "metadata": {},
   "outputs": [],
   "source": [
    "\"MATCH (m:Movie {title: 'When Harry Met Sally'}) \\\n",
    "CALL { \\\n",
    "    MATCH (p:Person)-[:ACTED_IN]->m \\\n",
    "    RETURN p.born \\\n",
    "}\n",
    "\""
   ]
  },
  {
   "cell_type": "code",
   "execution_count": null,
   "id": "aec15eba",
   "metadata": {},
   "outputs": [],
   "source": [
    "MATCH (m:Movie) WHERE m.title='When Harry Met Sally'\n",
    "SET m.isTest2 = \n",
    "CASE \n",
    "  WHEN <condition> THEN True\n",
    "  ELSE False\n",
    "END\n"
   ]
  },
  {
   "cell_type": "code",
   "execution_count": 63,
   "id": "b3ec611e",
   "metadata": {},
   "outputs": [],
   "source": [
    "testStr = \"MATCH (m:Movie)-[:ACTED_IN]->(p:Person) \\\n",
    "WHERE m.title='When Harry Met Sally' \\\n",
    "WITH m, count(p) as people \\\n",
    "WHERE NOT any(p in collect(p) WHERE p.isTest = True) \\\n",
    "SET m.isTest2 = \\\n",
    "CASE \\\n",
    "  WHEN people = 0 THEN False \\\n",
    "  ELSE True \\\n",
    "END\""
   ]
  },
  {
   "cell_type": "code",
   "execution_count": 64,
   "id": "59fd0a97",
   "metadata": {},
   "outputs": [
    {
     "ename": "ClientError",
     "evalue": "[Statement.SyntaxError] Invalid use of aggregating function collect(...) in this context (line 1, column 124 (offset: 123))\n\"MATCH (m:Movie)-[:ACTED_IN]->(p:Person) WHERE m.title='When Harry Met Sally' WITH m, count(p) as people WHERE NOT any(p in collect(p) WHERE p.isTest = True) SET m.isTest2 = CASE   WHEN people = 0 THEN False   ELSE True END\"\n                                                                                                                            ^",
     "output_type": "error",
     "traceback": [
      "\u001b[0;31m---------------------------------------------------------------------------\u001b[0m",
      "\u001b[0;31mClientError\u001b[0m                               Traceback (most recent call last)",
      "Cell \u001b[0;32mIn [64], line 1\u001b[0m\n\u001b[0;32m----> 1\u001b[0m \u001b[43mgraph\u001b[49m\u001b[38;5;241;43m.\u001b[39;49m\u001b[43mrun\u001b[49m\u001b[43m(\u001b[49m\u001b[43mtestStr\u001b[49m\u001b[43m)\u001b[49m\n",
      "File \u001b[0;32m~/opt/anaconda3/envs/my_env/lib/python3.10/site-packages/py2neo/database.py:405\u001b[0m, in \u001b[0;36mGraph.run\u001b[0;34m(self, cypher, parameters, **kwparameters)\u001b[0m\n\u001b[1;32m    395\u001b[0m \u001b[38;5;28;01mdef\u001b[39;00m \u001b[38;5;21mrun\u001b[39m(\u001b[38;5;28mself\u001b[39m, cypher, parameters\u001b[38;5;241m=\u001b[39m\u001b[38;5;28;01mNone\u001b[39;00m, \u001b[38;5;241m*\u001b[39m\u001b[38;5;241m*\u001b[39mkwparameters):\n\u001b[1;32m    396\u001b[0m     \u001b[38;5;124;03m\"\"\" Run a single read/write query within an auto-commit\u001b[39;00m\n\u001b[1;32m    397\u001b[0m \u001b[38;5;124;03m    :class:`~py2neo.Transaction`.\u001b[39;00m\n\u001b[1;32m    398\u001b[0m \n\u001b[0;32m   (...)\u001b[0m\n\u001b[1;32m    403\u001b[0m \u001b[38;5;124;03m    :return:\u001b[39;00m\n\u001b[1;32m    404\u001b[0m \u001b[38;5;124;03m    \"\"\"\u001b[39;00m\n\u001b[0;32m--> 405\u001b[0m     \u001b[38;5;28;01mreturn\u001b[39;00m \u001b[38;5;28;43mself\u001b[39;49m\u001b[38;5;241;43m.\u001b[39;49m\u001b[43mauto\u001b[49m\u001b[43m(\u001b[49m\u001b[43m)\u001b[49m\u001b[38;5;241;43m.\u001b[39;49m\u001b[43mrun\u001b[49m\u001b[43m(\u001b[49m\u001b[43mcypher\u001b[49m\u001b[43m,\u001b[49m\u001b[43m \u001b[49m\u001b[43mparameters\u001b[49m\u001b[43m,\u001b[49m\u001b[43m \u001b[49m\u001b[38;5;241;43m*\u001b[39;49m\u001b[38;5;241;43m*\u001b[39;49m\u001b[43mkwparameters\u001b[49m\u001b[43m)\u001b[49m\n",
      "File \u001b[0;32m~/opt/anaconda3/envs/my_env/lib/python3.10/site-packages/py2neo/database.py:992\u001b[0m, in \u001b[0;36mTransaction.run\u001b[0;34m(self, cypher, parameters, **kwparameters)\u001b[0m\n\u001b[1;32m    988\u001b[0m     \u001b[38;5;28;01melse\u001b[39;00m:\n\u001b[1;32m    989\u001b[0m         result \u001b[38;5;241m=\u001b[39m \u001b[38;5;28mself\u001b[39m\u001b[38;5;241m.\u001b[39m_connector\u001b[38;5;241m.\u001b[39mauto_run(cypher, parameters,\n\u001b[1;32m    990\u001b[0m                                           graph_name\u001b[38;5;241m=\u001b[39m\u001b[38;5;28mself\u001b[39m\u001b[38;5;241m.\u001b[39mgraph\u001b[38;5;241m.\u001b[39mname,\n\u001b[1;32m    991\u001b[0m                                           readonly\u001b[38;5;241m=\u001b[39m\u001b[38;5;28mself\u001b[39m\u001b[38;5;241m.\u001b[39mreadonly)\n\u001b[0;32m--> 992\u001b[0m     \u001b[38;5;28;43mself\u001b[39;49m\u001b[38;5;241;43m.\u001b[39;49m\u001b[43m_connector\u001b[49m\u001b[38;5;241;43m.\u001b[39;49m\u001b[43mpull\u001b[49m\u001b[43m(\u001b[49m\u001b[43mresult\u001b[49m\u001b[43m,\u001b[49m\u001b[43m \u001b[49m\u001b[38;5;241;43m-\u001b[39;49m\u001b[38;5;241;43m1\u001b[39;49m\u001b[43m)\u001b[49m\n\u001b[1;32m    993\u001b[0m     \u001b[38;5;28;01mreturn\u001b[39;00m Cursor(result, hydrant)\n\u001b[1;32m    994\u001b[0m \u001b[38;5;28;01mfinally\u001b[39;00m:\n",
      "File \u001b[0;32m~/opt/anaconda3/envs/my_env/lib/python3.10/site-packages/py2neo/client/__init__.py:1434\u001b[0m, in \u001b[0;36mConnector.pull\u001b[0;34m(self, result, n)\u001b[0m\n\u001b[1;32m   1432\u001b[0m cx \u001b[38;5;241m=\u001b[39m \u001b[38;5;28mself\u001b[39m\u001b[38;5;241m.\u001b[39m_reacquire(result\u001b[38;5;241m.\u001b[39mtransaction)\n\u001b[1;32m   1433\u001b[0m \u001b[38;5;28;01mtry\u001b[39;00m:\n\u001b[0;32m-> 1434\u001b[0m     \u001b[43mcx\u001b[49m\u001b[38;5;241;43m.\u001b[39;49m\u001b[43mpull\u001b[49m\u001b[43m(\u001b[49m\u001b[43mresult\u001b[49m\u001b[43m,\u001b[49m\u001b[43m \u001b[49m\u001b[43mn\u001b[49m\u001b[38;5;241;43m=\u001b[39;49m\u001b[43mn\u001b[49m\u001b[43m)\u001b[49m\n\u001b[1;32m   1435\u001b[0m \u001b[38;5;28;01mexcept\u001b[39;00m (ConnectionUnavailable, ConnectionBroken):\n\u001b[1;32m   1436\u001b[0m     \u001b[38;5;28mself\u001b[39m\u001b[38;5;241m.\u001b[39mprune(cx\u001b[38;5;241m.\u001b[39mprofile)\n",
      "File \u001b[0;32m~/opt/anaconda3/envs/my_env/lib/python3.10/site-packages/py2neo/client/bolt.py:1001\u001b[0m, in \u001b[0;36mBolt4x0.pull\u001b[0;34m(self, result, n, capacity)\u001b[0m\n\u001b[1;32m    998\u001b[0m     raise_from(ConnectionBroken(\u001b[38;5;124m\"\u001b[39m\u001b[38;5;124mTransaction broken by disconnection \u001b[39m\u001b[38;5;124m\"\u001b[39m\n\u001b[1;32m    999\u001b[0m                                 \u001b[38;5;124m\"\u001b[39m\u001b[38;5;124mduring pull\u001b[39m\u001b[38;5;124m\"\u001b[39m), error)\n\u001b[1;32m   1000\u001b[0m \u001b[38;5;28;01melse\u001b[39;00m:\n\u001b[0;32m-> 1001\u001b[0m     \u001b[38;5;28;43mself\u001b[39;49m\u001b[38;5;241;43m.\u001b[39;49m\u001b[43m_audit\u001b[49m\u001b[43m(\u001b[49m\u001b[38;5;28;43mself\u001b[39;49m\u001b[38;5;241;43m.\u001b[39;49m\u001b[43m_transaction\u001b[49m\u001b[43m)\u001b[49m\n\u001b[1;32m   1002\u001b[0m     \u001b[38;5;28;01mreturn\u001b[39;00m response\n",
      "File \u001b[0;32m~/opt/anaconda3/envs/my_env/lib/python3.10/site-packages/py2neo/client/bolt.py:810\u001b[0m, in \u001b[0;36mBolt1._audit\u001b[0;34m(self, task)\u001b[0m\n\u001b[1;32m    808\u001b[0m     \u001b[38;5;28;01mreturn\u001b[39;00m\n\u001b[1;32m    809\u001b[0m \u001b[38;5;28;01mtry\u001b[39;00m:\n\u001b[0;32m--> 810\u001b[0m     \u001b[43mtask\u001b[49m\u001b[38;5;241;43m.\u001b[39;49m\u001b[43maudit\u001b[49m\u001b[43m(\u001b[49m\u001b[43m)\u001b[49m\n\u001b[1;32m    811\u001b[0m \u001b[38;5;28;01mexcept\u001b[39;00m Neo4jError:\n\u001b[1;32m    812\u001b[0m     \u001b[38;5;28mself\u001b[39m\u001b[38;5;241m.\u001b[39mreset(force\u001b[38;5;241m=\u001b[39m\u001b[38;5;28;01mTrue\u001b[39;00m)\n",
      "File \u001b[0;32m~/opt/anaconda3/envs/my_env/lib/python3.10/site-packages/py2neo/client/bolt.py:1140\u001b[0m, in \u001b[0;36mItemizedTask.audit\u001b[0;34m(self)\u001b[0m\n\u001b[1;32m   1138\u001b[0m \u001b[38;5;28;01mdef\u001b[39;00m \u001b[38;5;21maudit\u001b[39m(\u001b[38;5;28mself\u001b[39m):\n\u001b[1;32m   1139\u001b[0m     \u001b[38;5;28;01mfor\u001b[39;00m item \u001b[38;5;129;01min\u001b[39;00m \u001b[38;5;28mself\u001b[39m\u001b[38;5;241m.\u001b[39m_items:\n\u001b[0;32m-> 1140\u001b[0m         \u001b[43mitem\u001b[49m\u001b[38;5;241;43m.\u001b[39;49m\u001b[43maudit\u001b[49m\u001b[43m(\u001b[49m\u001b[43m)\u001b[49m\n",
      "File \u001b[0;32m~/opt/anaconda3/envs/my_env/lib/python3.10/site-packages/py2neo/client/bolt.py:1140\u001b[0m, in \u001b[0;36mItemizedTask.audit\u001b[0;34m(self)\u001b[0m\n\u001b[1;32m   1138\u001b[0m \u001b[38;5;28;01mdef\u001b[39;00m \u001b[38;5;21maudit\u001b[39m(\u001b[38;5;28mself\u001b[39m):\n\u001b[1;32m   1139\u001b[0m     \u001b[38;5;28;01mfor\u001b[39;00m item \u001b[38;5;129;01min\u001b[39;00m \u001b[38;5;28mself\u001b[39m\u001b[38;5;241m.\u001b[39m_items:\n\u001b[0;32m-> 1140\u001b[0m         \u001b[43mitem\u001b[49m\u001b[38;5;241;43m.\u001b[39;49m\u001b[43maudit\u001b[49m\u001b[43m(\u001b[49m\u001b[43m)\u001b[49m\n",
      "File \u001b[0;32m~/opt/anaconda3/envs/my_env/lib/python3.10/site-packages/py2neo/client/bolt.py:1303\u001b[0m, in \u001b[0;36mBoltResponse.audit\u001b[0;34m(self)\u001b[0m\n\u001b[1;32m   1301\u001b[0m \u001b[38;5;28;01mif\u001b[39;00m \u001b[38;5;28mself\u001b[39m\u001b[38;5;241m.\u001b[39m_failure:\n\u001b[1;32m   1302\u001b[0m     \u001b[38;5;28mself\u001b[39m\u001b[38;5;241m.\u001b[39mset_ignored()\n\u001b[0;32m-> 1303\u001b[0m     \u001b[38;5;28;01mraise\u001b[39;00m \u001b[38;5;28mself\u001b[39m\u001b[38;5;241m.\u001b[39m_failure\n",
      "\u001b[0;31mClientError\u001b[0m: [Statement.SyntaxError] Invalid use of aggregating function collect(...) in this context (line 1, column 124 (offset: 123))\n\"MATCH (m:Movie)-[:ACTED_IN]->(p:Person) WHERE m.title='When Harry Met Sally' WITH m, count(p) as people WHERE NOT any(p in collect(p) WHERE p.isTest = True) SET m.isTest2 = CASE   WHEN people = 0 THEN False   ELSE True END\"\n                                                                                                                            ^"
     ]
    }
   ],
   "source": [
    "graph.run(testStr)"
   ]
  },
  {
   "cell_type": "code",
   "execution_count": 111,
   "id": "bc0ba4cc",
   "metadata": {},
   "outputs": [],
   "source": [
    "testStr2 = \"\"\"\n",
    "MATCH (p:Person)-[:ACTED_IN]->(m:Movie) \n",
    "WHERE m.title='When Harry Met Sally' \n",
    "WITH m, collect(p.isTest2) as peopleTests \n",
    "SET m.isTest2 =  \n",
    "CASE  \n",
    "  WHEN any(test in peopleTests WHERE test = True) THEN False \n",
    "  ELSE True \n",
    "END \n",
    "RETURN \n",
    "CASE \n",
    "  WHEN any(test in peopleTests WHERE test = True) THEN 'Cannot switch off' \n",
    "  ELSE 'Switched off' \n",
    "END AS message\n",
    "\"\"\""
   ]
  },
  {
   "cell_type": "code",
   "execution_count": 112,
   "id": "5271ca00",
   "metadata": {},
   "outputs": [],
   "source": [
    "msg = graph.run(testStr2).data()"
   ]
  },
  {
   "cell_type": "code",
   "execution_count": 113,
   "id": "ad1d965d",
   "metadata": {},
   "outputs": [
    {
     "name": "stdout",
     "output_type": "stream",
     "text": [
      "[{'message': 'Cannot switch off'}]\n"
     ]
    }
   ],
   "source": [
    "print(msg)"
   ]
  },
  {
   "cell_type": "code",
   "execution_count": 106,
   "id": "a216a6e9",
   "metadata": {},
   "outputs": [],
   "source": [
    "testStr3 = \"\"\"\n",
    "MATCH (p:Person)-[:ACTED_IN]->(m:Movie)\n",
    "WHERE m.title='When Harry Met Sally'\n",
    "WITH p, collect(p) as people, collect(p.isTest2) as peopleTests\n",
    "SET p.isTest2 = \n",
    "CASE \n",
    "  WHEN any(test in peopleTests WHERE test = True) THEN False\n",
    "  ELSE True\n",
    "END\n",
    "RETURN \n",
    "CASE \n",
    "  WHEN any(test in peopleTests WHERE test = True) THEN 'The condition is not met'\n",
    "  ELSE 'The condition is met'\n",
    "END AS message,\n",
    "[p in people WHERE p.isTest2=True] AS peopleNotMeetingCondition\n",
    "\"\"\""
   ]
  },
  {
   "cell_type": "code",
   "execution_count": 123,
   "id": "0d5ed88e",
   "metadata": {},
   "outputs": [],
   "source": [
    "testStr4  = \"\"\"\n",
    "MATCH (p:Person)-[:ACTED_IN]->(m:Movie)\n",
    "WHERE m.title='When Harry Met Sally'\n",
    "WITH collect(p) as people, collect(p.isTest2) as peopleTests\n",
    "RETURN {\n",
    "  message: \n",
    "    CASE \n",
    "      WHEN any(test in peopleTests WHERE test = True) THEN 'Node is still ON'\n",
    "      ELSE 'All clear; proceed to switch OFF power'\n",
    "    END,\n",
    "  nodesNotMeetingCondition: [p in people WHERE p.isTest2=True]\n",
    "} AS result\n",
    "\n",
    "\"\"\""
   ]
  },
  {
   "cell_type": "code",
   "execution_count": 124,
   "id": "e443a520",
   "metadata": {},
   "outputs": [],
   "source": [
    "msg = graph.run(testStr4).data()"
   ]
  },
  {
   "cell_type": "code",
   "execution_count": 125,
   "id": "e9671ff8",
   "metadata": {},
   "outputs": [
    {
     "name": "stdout",
     "output_type": "stream",
     "text": [
      "[{'result': {'nodesNotMeetingCondition': [Node('Person', born=1949, isTest2=True, isTest3=True, name='Bruno Kirby')], 'message': 'Node is still ON'}}]\n"
     ]
    }
   ],
   "source": [
    "print(msg)"
   ]
  },
  {
   "cell_type": "markdown",
   "id": "4ba93517",
   "metadata": {},
   "source": [
    "### finallll"
   ]
  },
  {
   "cell_type": "code",
   "execution_count": 57,
   "id": "768a34b2",
   "metadata": {},
   "outputs": [],
   "source": [
    "# Set up connection to Neo4j db\n",
    "\n",
    "remote_url =  \"neo4j://localhost:7687\"\n",
    "remote_user = \"kaiser_zzk\"\n",
    "remote_pw =   \"123465789\""
   ]
  },
  {
   "cell_type": "code",
   "execution_count": 58,
   "id": "aab3b76c",
   "metadata": {},
   "outputs": [],
   "source": [
    "graph = Graph(remote_url, auth=(remote_user, remote_pw))"
   ]
  }
 ],
 "metadata": {
  "kernelspec": {
   "display_name": "my_env",
   "language": "python",
   "name": "my_env"
  },
  "language_info": {
   "codemirror_mode": {
    "name": "ipython",
    "version": 3
   },
   "file_extension": ".py",
   "mimetype": "text/x-python",
   "name": "python",
   "nbconvert_exporter": "python",
   "pygments_lexer": "ipython3",
   "version": "3.10.8"
  }
 },
 "nbformat": 4,
 "nbformat_minor": 5
}
