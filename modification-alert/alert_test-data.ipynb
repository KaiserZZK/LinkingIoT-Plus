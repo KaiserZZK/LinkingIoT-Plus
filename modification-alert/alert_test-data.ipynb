{
 "cells": [
  {
   "cell_type": "markdown",
   "id": "ce6bff12",
   "metadata": {},
   "source": [
    "## \n",
    "\n",
    "A prototype\n",
    "\n",
    "#### Objective\n",
    "\n",
    "The objective is to test whether \n",
    "\n",
    "Categorization of relations \n",
    "Changing the value of an attribute (e.g. onStatus) of one device/thing (e.g. smart-socket-1) may affect attributes of another device (e.g. smart-lamp-2)\n",
    "\n",
    "We wanna make sure this doesn’t happen/users should get warned for altering a thing that has other things dependent on that \n",
    "\n",
    "```Cypher\n",
    "MATCH (a:PowerSource {id: ‘smart-socket-1’})-[r:Powers]->(b:Appliance)\n",
    "SET b.onStatus = False\n",
    "RETURN b\n",
    "```\n",
    "\n",
    "```Cypher\n",
    "MATCH (a:PowerSource {id: ‘smart-socket-1’})-[r:Powers]->(b:Appliance)\n",
    "<detecting mechanism>\n",
    "SET b.onStatus = False\n",
    "RETURN b\n",
    "```\n",
    "\n",
    "#### Method\n",
    "\n",
    "In this prototype, I will be using Neo4j's built-in example database, `Movie DBMS`.\n",
    "\n",
    "One existing relationships in this db model could help with our prototyping process `Acted_in`\n",
    "\n",
    "implies a dependency of an actor on a movie\n",
    "analogous to the power source appliance relationship \n",
    "\n",
    "`onStatus`\n",
    "\n",
    "##### Use cases to build model after\n",
    "\n",
    "* power(on), appliance(off) --> wanting to switch off power\n",
    "\n",
    "* power(off), appliance(on) --> wanting to switch on appliance\n",
    "\n",
    "#### Steps\n",
    "1. Modidying test data\n",
    "* Add attributes to data\n",
    "2. Building out the feature\n",
    "* Write Cypher query that affects power/host's attributes\n",
    "* Convert Cypher query into python function \n",
    "* Control statement to check power/appliance, determine whether to raise an alert"
   ]
  },
  {
   "cell_type": "markdown",
   "id": "afb2eb1d",
   "metadata": {},
   "source": [
    "### Set up and test the connection"
   ]
  },
  {
   "cell_type": "code",
   "execution_count": 1,
   "id": "a4d4d067",
   "metadata": {},
   "outputs": [],
   "source": [
    "from py2neo import Graph"
   ]
  },
  {
   "cell_type": "code",
   "execution_count": 2,
   "id": "d4b967b6",
   "metadata": {},
   "outputs": [],
   "source": [
    "remote_url =  \"neo4j://localhost:7687\"\n",
    "remote_user = \"kaiser_zzk\"\n",
    "remote_pw =   \"123465789\""
   ]
  },
  {
   "cell_type": "code",
   "execution_count": 3,
   "id": "8433107f",
   "metadata": {},
   "outputs": [],
   "source": [
    "def t1():\n",
    "    graph = Graph(remote_url, auth=(remote_user, remote_pw))\n",
    "    q = \"match (r:Person) where r.name='Tom Hanks' return r\"\n",
    "    res = graph.run(q)\n",
    "\n",
    "    for r in res:\n",
    "        print(r)"
   ]
  },
  {
   "cell_type": "code",
   "execution_count": 4,
   "id": "8ce053c4",
   "metadata": {},
   "outputs": [
    {
     "name": "stdout",
     "output_type": "stream",
     "text": [
      "Node('Person', born=1956, name='Tom Hanks')\n"
     ]
    }
   ],
   "source": [
    "t1()"
   ]
  },
  {
   "cell_type": "markdown",
   "id": "55a33b9c",
   "metadata": {},
   "source": [
    "### Modify `Movie` Nodes"
   ]
  },
  {
   "cell_type": "markdown",
   "id": "b4c56a50",
   "metadata": {},
   "source": [
    "Create and add an attribute that only accepts `True` or `False` as its values "
   ]
  },
  {
   "cell_type": "code",
   "execution_count": 5,
   "id": "a32d2e0f",
   "metadata": {},
   "outputs": [],
   "source": [
    "graph = Graph(remote_url, auth=(remote_user, remote_pw))"
   ]
  },
  {
   "cell_type": "code",
   "execution_count": 23,
   "id": "b5d838e9",
   "metadata": {},
   "outputs": [],
   "source": [
    "createPropertyTestStr = \"MATCH (n:Movie) SET n.isTest2 = True\""
   ]
  },
  {
   "cell_type": "code",
   "execution_count": 24,
   "id": "9632931b",
   "metadata": {},
   "outputs": [],
   "source": [
    "def createPropertyTest():\n",
    "    graph.run(createPropertyTestStr)"
   ]
  },
  {
   "cell_type": "code",
   "execution_count": 25,
   "id": "b678bc6f",
   "metadata": {},
   "outputs": [],
   "source": [
    "createPropertyTest()"
   ]
  },
  {
   "cell_type": "markdown",
   "id": "c5ba3093",
   "metadata": {},
   "source": [
    "There is currently no built-in way to enforce a range of values for a property in Neo4j (?)"
   ]
  },
  {
   "cell_type": "code",
   "execution_count": 37,
   "id": "3f4c06a5",
   "metadata": {},
   "outputs": [],
   "source": [
    "def checkNodePropertyValue():\n",
    "    q = \"MATCH (n:Movie) WHERE n.title='When Harry Met Sally' RETURN n.released\"\n",
    "    num = graph.run(q)\n",
    "    \n",
    "    return num"
   ]
  },
  {
   "cell_type": "code",
   "execution_count": 38,
   "id": "8e3c7170",
   "metadata": {},
   "outputs": [
    {
     "data": {
      "text/html": [
       "<table><tr><th>n.released</th></tr><tr><td style=\"text-align:right\">1998</td></tr></table>"
      ],
      "text/plain": [
       " n.released \n",
       "------------\n",
       "       1998 "
      ]
     },
     "execution_count": 38,
     "metadata": {},
     "output_type": "execute_result"
    }
   ],
   "source": [
    "checkNodePropertyValue()"
   ]
  },
  {
   "cell_type": "markdown",
   "id": "4cb49491",
   "metadata": {},
   "source": [
    "checking the value(s) of the related node(s) of the \"root\" node"
   ]
  },
  {
   "cell_type": "code",
   "execution_count": 49,
   "id": "fcd3585b",
   "metadata": {},
   "outputs": [],
   "source": [
    "def checkRelatedNodesPropertyValue():\n",
    "    q = \"MATCH (p:Person)-[:ACTED_IN]->(m:Movie) WHERE m.title = 'When Harry Met Sally' RETURN p.born\"\n",
    "    ages = graph.run(q)\n",
    "    \n",
    "    for a in ages:\n",
    "        print(a)"
   ]
  },
  {
   "cell_type": "code",
   "execution_count": 50,
   "id": "16f50375",
   "metadata": {},
   "outputs": [
    {
     "name": "stdout",
     "output_type": "stream",
     "text": [
      "1956\n",
      "1948\n",
      "1949\n",
      "1961\n"
     ]
    }
   ],
   "source": [
    "checkRelatedNodesPropertyValue()"
   ]
  }
 ],
 "metadata": {
  "kernelspec": {
   "display_name": "my_env",
   "language": "python",
   "name": "my_env"
  },
  "language_info": {
   "codemirror_mode": {
    "name": "ipython",
    "version": 3
   },
   "file_extension": ".py",
   "mimetype": "text/x-python",
   "name": "python",
   "nbconvert_exporter": "python",
   "pygments_lexer": "ipython3",
   "version": "3.10.8"
  }
 },
 "nbformat": 4,
 "nbformat_minor": 5
}
