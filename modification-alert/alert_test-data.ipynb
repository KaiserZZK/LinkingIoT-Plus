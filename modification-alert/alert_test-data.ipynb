{
 "cells": [
  {
   "cell_type": "markdown",
   "id": "ce6bff12",
   "metadata": {},
   "source": [
    "## \n",
    "\n",
    "A prototype\n",
    "\n",
    "#### Objective\n",
    "\n",
    "The objective is to test whether \n",
    "\n",
    "Categorization of relations \n",
    "Changing the value of an attribute (e.g. onStatus) of one device/thing (e.g. smart-socket-1) may affect attributes of another device (e.g. smart-lamp-2)\n",
    "\n",
    "We wanna make sure this doesn’t happen/users should get warned for altering a thing that has other things dependent on that \n",
    "\n",
    "```Cypher\n",
    "MATCH (a:PowerSource {id: ‘smart-socket-1’})-[r:Powers]->(b:Appliance)\n",
    "SET b.onStatus = False\n",
    "RETURN b\n",
    "```\n",
    "\n",
    "```Cypher\n",
    "MATCH (a:PowerSource {id: ‘smart-socket-1’})-[r:Powers]->(b:Appliance)\n",
    "<detecting mechanism>\n",
    "SET b.onStatus = False\n",
    "RETURN b\n",
    "```\n",
    "\n",
    "#### Method\n",
    "\n",
    "In this prototype, I will be using Neo4j's built-in example database, `Movie DBMS`.\n",
    "\n",
    "One existing relationships in this db model could help with our prototyping process `Acted_in`\n",
    "\n",
    "implies a dependency of an actor on a movie\n",
    "analogous to the power source appliance relationship \n",
    "\n",
    "`onStatus`\n",
    "\n",
    "##### Use cases to build model after\n",
    "\n",
    "* power(on), appliance(off) --> wanting to switch off power\n",
    "\n",
    "* power(off), appliance(on) --> wanting to switch on appliance\n",
    "\n",
    "#### Steps\n",
    "1. Modidying test data\n",
    "* Add attributes to data\n",
    "2. Building out the feature\n",
    "* Write Cypher query that affects power/host's attributes\n",
    "* Convert Cypher query into python function \n",
    "* Control statement to check power/appliance, determine whether to raise an alert"
   ]
  },
  {
   "cell_type": "markdown",
   "id": "afb2eb1d",
   "metadata": {},
   "source": [
    "### Set up and test the connection"
   ]
  },
  {
   "cell_type": "code",
   "execution_count": 4,
   "id": "a4d4d067",
   "metadata": {},
   "outputs": [],
   "source": [
    "from py2neo import Graph"
   ]
  },
  {
   "cell_type": "code",
   "execution_count": 24,
   "id": "d4b967b6",
   "metadata": {},
   "outputs": [],
   "source": [
    "remote_url =  \"neo4j://localhost:7687\"\n",
    "remote_user = \"kaiser_zzk\"\n",
    "remote_pw =   \"123465789\""
   ]
  },
  {
   "cell_type": "code",
   "execution_count": 27,
   "id": "8433107f",
   "metadata": {},
   "outputs": [],
   "source": [
    "def t1():\n",
    "    graph = Graph(remote_url, auth=(remote_user, remote_pw))\n",
    "    q = \"match (r:Person) where r.name='Tom Hanks' return r\"\n",
    "    res = graph.run(q)\n",
    "\n",
    "    for r in res:\n",
    "        print(r)"
   ]
  },
  {
   "cell_type": "code",
   "execution_count": 29,
   "id": "8ce053c4",
   "metadata": {},
   "outputs": [
    {
     "name": "stdout",
     "output_type": "stream",
     "text": [
      "Node('Person', born=1956, name='Tom Hanks')\n"
     ]
    }
   ],
   "source": [
    "t1()"
   ]
  },
  {
   "cell_type": "markdown",
   "id": "55a33b9c",
   "metadata": {},
   "source": [
    "### Modify `Movie` Nodes"
   ]
  },
  {
   "cell_type": "markdown",
   "id": "b4c56a50",
   "metadata": {},
   "source": [
    "Create and add an attribute that only accepts `True` or `False` as its values "
   ]
  }
 ],
 "metadata": {
  "kernelspec": {
   "display_name": "my_env",
   "language": "python",
   "name": "my_env"
  },
  "language_info": {
   "codemirror_mode": {
    "name": "ipython",
    "version": 3
   },
   "file_extension": ".py",
   "mimetype": "text/x-python",
   "name": "python",
   "nbconvert_exporter": "python",
   "pygments_lexer": "ipython3",
   "version": "3.10.8"
  }
 },
 "nbformat": 4,
 "nbformat_minor": 5
}
