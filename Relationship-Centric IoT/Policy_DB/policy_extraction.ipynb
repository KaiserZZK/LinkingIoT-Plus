{
 "cells": [
  {
   "cell_type": "code",
   "execution_count": 4,
   "id": "d5bfe8d4",
   "metadata": {},
   "outputs": [],
   "source": [
    "## rule filter\n",
    "def filt_state(rule_s):\n",
    "    device_s = []\n",
    "    for idx in range(len(rule_s)):\n",
    "        if 'state' in rule_s[idx]:\n",
    "            device_s.append((rule_s[idx].replace('.state', ''), 'state'))\n",
    "        elif 'value' in rule_s[idx]:\n",
    "            device_s.append((rule_s[idx].replace('.value', ''), 'value'))\n",
    "        else:\n",
    "            if rule_s[idx].split(' ')[1] == '=':\n",
    "                device_s.append((rule_s[idx], 'state'))\n",
    "            else:\n",
    "                device_s.append((rule_s[idx], 'value'))\n",
    "        \n",
    "    return device_s\n",
    "\n",
    "def category(rule_f, rule_s, policy_o):\n",
    "    if len(rule_f.split(' and ')) == 1 and len(rule_s.split(' and ')) == 1:\n",
    "        policy_o.append('S1')\n",
    "    elif len(rule_f.split(' and ')) > 1 and len(rule_s.split(' and ')) == 1:\n",
    "        policy_o.append('S2')\n",
    "    elif len(rule_f.split(' and ')) == 1 and len(rule_s.split(' and ')) > 1:\n",
    "        policy_o.append('S3')"
   ]
  },
  {
   "cell_type": "code",
   "execution_count": 16,
   "id": "ee279b98",
   "metadata": {},
   "outputs": [
    {
     "name": "stdout",
     "output_type": "stream",
     "text": [
      "74\n",
      "398\n"
     ]
    }
   ],
   "source": [
    "import json\n",
    "policy_file = 'rules.txt'\n",
    "total_app = 0\n",
    "policy = open(policy_file, 'r')\n",
    "policy_db = []\n",
    "policy_raw = []\n",
    "selected = []\n",
    "for rule in policy:\n",
    "    if '##' in rule:\n",
    "        total_app += 1\n",
    "        continue\n",
    "    rule_raw = rule.strip()\n",
    "    rule = rule_raw.split(',')[0]\n",
    "    if len(rule_raw.split(',')) == 2:\n",
    "        priority = rule_raw.split(',')[1]\n",
    "        #print(priority)\n",
    "        if priority == 'safety' or priority == 'energy':\n",
    "            selected.append((rule, priority))\n",
    "    #priority = PRIORITY_DEFAULT\n",
    "    rule_if = rule.split(' then ')[0].replace('if ', '')\n",
    "    rule_then = rule.split(' then ')[1]\n",
    "    rule_tri = rule_if.split(' and ')\n",
    "    rule_act = rule_then.split(' and ')\n",
    "    device_tri = filt_state(rule_tri)\n",
    "    device_act = filt_state(rule_act)\n",
    "    category(rule_if, rule_then, policy_db)\n",
    "    #print(device_tri)\n",
    "    #print(rule_tri)\n",
    "    #print(rule_act)\n",
    "    policy_db.append((device_tri, device_act))\n",
    "    policy_raw.append((rule_tri, rule_act))\n",
    "    #print(rule)\n",
    "print(total_app)\n",
    "print(len(policy_db)) \n",
    "#policy_db\n",
    "with open('selected_policy.txt', 'w') as f:\n",
    "    f.write(str(selected))"
   ]
  }
 ],
 "metadata": {
  "kernelspec": {
   "display_name": "Python 3",
   "language": "python",
   "name": "python3"
  },
  "language_info": {
   "codemirror_mode": {
    "name": "ipython",
    "version": 3
   },
   "file_extension": ".py",
   "mimetype": "text/x-python",
   "name": "python",
   "nbconvert_exporter": "python",
   "pygments_lexer": "ipython3",
   "version": "3.9.12"
  }
 },
 "nbformat": 4,
 "nbformat_minor": 5
}
